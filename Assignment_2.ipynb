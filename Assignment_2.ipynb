{
 "cells": [
  {
   "cell_type": "markdown",
   "id": "82bd0ab4",
   "metadata": {},
   "source": [
    "## Assignment_2"
   ]
  },
  {
   "cell_type": "markdown",
   "id": "5c788fe5",
   "metadata": {},
   "source": [
    "#### Q. 1. What are the two values of the Boolean data type? How do you write them?"
   ]
  },
  {
   "cell_type": "markdown",
   "id": "910be12f",
   "metadata": {},
   "source": [
    "Answer : \n",
    "- The two values of boolean data type are : True and False. The result of a boolean expression is either True or False.\n",
    "- Using capital T and F, with the rest of the word in lowercase."
   ]
  },
  {
   "cell_type": "code",
   "execution_count": 5,
   "id": "def2e0a3",
   "metadata": {},
   "outputs": [
    {
     "data": {
      "text/plain": [
       "(bool, bool)"
      ]
     },
     "execution_count": 5,
     "metadata": {},
     "output_type": "execute_result"
    }
   ],
   "source": [
    "a,b = True, False\n",
    "#a,b = True,False\n",
    "( type(a),type(b))"
   ]
  },
  {
   "cell_type": "code",
   "execution_count": 11,
   "id": "9f5021d0",
   "metadata": {},
   "outputs": [
    {
     "name": "stdout",
     "output_type": "stream",
     "text": [
      "False\n",
      "False\n"
     ]
    }
   ],
   "source": [
    "# false \n",
    "a,b = 10,20\n",
    "print(bool(a==b))\n",
    "print(bool(a>b or a>=b))"
   ]
  },
  {
   "cell_type": "code",
   "execution_count": 12,
   "id": "94fa81f8",
   "metadata": {},
   "outputs": [
    {
     "name": "stdout",
     "output_type": "stream",
     "text": [
      "True\n",
      "True\n"
     ]
    }
   ],
   "source": [
    "# True\n",
    "print(bool(a!=b))\n",
    "print(bool(a<b or a<=b))"
   ]
  },
  {
   "cell_type": "code",
   "execution_count": 17,
   "id": "f8a75169",
   "metadata": {},
   "outputs": [
    {
     "name": "stdout",
     "output_type": "stream",
     "text": [
      "True\n"
     ]
    }
   ],
   "source": [
    "var1 = 1\n",
    "print(bool(var1))"
   ]
  },
  {
   "cell_type": "code",
   "execution_count": 18,
   "id": "917cd0ca",
   "metadata": {},
   "outputs": [
    {
     "name": "stdout",
     "output_type": "stream",
     "text": [
      "True\n"
     ]
    }
   ],
   "source": [
    "var2 = 1.2\n",
    "print(bool(var2))"
   ]
  },
  {
   "cell_type": "code",
   "execution_count": 19,
   "id": "182afbee",
   "metadata": {},
   "outputs": [
    {
     "name": "stdout",
     "output_type": "stream",
     "text": [
      "False\n"
     ]
    }
   ],
   "source": [
    "var = 0\n",
    "print(bool(var))"
   ]
  },
  {
   "cell_type": "code",
   "execution_count": 22,
   "id": "a870b073",
   "metadata": {},
   "outputs": [
    {
     "data": {
      "text/plain": [
       "True"
      ]
     },
     "execution_count": 22,
     "metadata": {},
     "output_type": "execute_result"
    }
   ],
   "source": [
    "var3 = -1.2\n",
    "bool(var3)"
   ]
  },
  {
   "cell_type": "markdown",
   "id": "73cb8af8",
   "metadata": {},
   "source": [
    "Numbers can be used as bool values by using Python’s built-in bool() method. Any integer, floating-point number, or complex number having zero as a value is considered as False."
   ]
  },
  {
   "cell_type": "code",
   "execution_count": 23,
   "id": "ffb83644",
   "metadata": {},
   "outputs": [
    {
     "name": "stdout",
     "output_type": "stream",
     "text": [
      "False\n"
     ]
    }
   ],
   "source": [
    "a,b = 1,2\n",
    "if a>b :\n",
    "    print(True)\n",
    "else :\n",
    "    print(False)\n"
   ]
  },
  {
   "cell_type": "markdown",
   "id": "ee348365",
   "metadata": {},
   "source": [
    "#### Q. 2. What are the three different types of Boolean operators?"
   ]
  },
  {
   "cell_type": "markdown",
   "id": "4e613113",
   "metadata": {},
   "source": [
    "Answer : The three different types of boolen operators are AND, OR, and NOT."
   ]
  },
  {
   "cell_type": "code",
   "execution_count": 33,
   "id": "1cd2454b",
   "metadata": {},
   "outputs": [
    {
     "name": "stdout",
     "output_type": "stream",
     "text": [
      "False\n",
      "Atleast one number has boolean value as False\n"
     ]
    }
   ],
   "source": [
    "# AND\n",
    "a = 0\n",
    "b = 2\n",
    "c = 4\n",
    " \n",
    "if a > b and b < c:\n",
    "    print(True)\n",
    "else:\n",
    "    print(False)\n",
    "     \n",
    "if a and b and c:\n",
    "    print(\"All the numbers has boolean value as True\")\n",
    "else:\n",
    "    print(\"Atleast one number has boolean value as False\")"
   ]
  },
  {
   "cell_type": "code",
   "execution_count": 32,
   "id": "bd50ebb4",
   "metadata": {},
   "outputs": [
    {
     "name": "stdout",
     "output_type": "stream",
     "text": [
      "Boolean value of a is false\n"
     ]
    }
   ],
   "source": [
    "# NOT\n",
    "a = 0\n",
    "if not a :\n",
    "    print(\"Boolean value of a is false\")"
   ]
  },
  {
   "cell_type": "code",
   "execution_count": 34,
   "id": "82fc80fa",
   "metadata": {},
   "outputs": [
    {
     "name": "stdout",
     "output_type": "stream",
     "text": [
      "True\n",
      "Atleat one number is a boolean value\n"
     ]
    }
   ],
   "source": [
    "a,b = 0,1\n",
    "#a,b = 1, 1\n",
    "     \n",
    "if a == b:\n",
    "    print(a+b)\n",
    "     \n",
    "if a != b:\n",
    "    print(True)\n",
    "if a or b :\n",
    "    print(\"Atleat one number is a boolean value\")"
   ]
  },
  {
   "cell_type": "markdown",
   "id": "1dd85059",
   "metadata": {},
   "source": [
    "#### Q. 3. Make a list of each Boolean operator's truth tables (i.e. every possible combination of Boolean values for the operator and what it evaluate)"
   ]
  },
  {
   "cell_type": "markdown",
   "id": "0e22a7f0",
   "metadata": {},
   "source": [
    "Answer :\n",
    "- In the truth table, a 1= true while a 0 = false.\n",
    "- Truth value(AND) : when both A and B are true, only then C is true.\n",
    "- Truth value(OR) : The OR statement is true when A OR B is true."
   ]
  },
  {
   "cell_type": "markdown",
   "id": "1e7023cc",
   "metadata": {},
   "source": [
    "#### Q. 4. What are the values of the following expressions?\n",
    "\n",
    "(5 > 4) and (3 == 5), not (5 > 4), (5 > 4) or (3 == 5), not ((5 > 4) or (3 == 5)) ,(True and True) and (True == False), (not False) or (not True)"
   ]
  },
  {
   "cell_type": "code",
   "execution_count": 36,
   "id": "d8ce230c",
   "metadata": {},
   "outputs": [
    {
     "data": {
      "text/plain": [
       "False"
      ]
     },
     "execution_count": 36,
     "metadata": {},
     "output_type": "execute_result"
    }
   ],
   "source": [
    "(5>4) and (3==5)"
   ]
  },
  {
   "cell_type": "code",
   "execution_count": 37,
   "id": "094ba703",
   "metadata": {},
   "outputs": [
    {
     "data": {
      "text/plain": [
       "False"
      ]
     },
     "execution_count": 37,
     "metadata": {},
     "output_type": "execute_result"
    }
   ],
   "source": [
    "not(5>4)"
   ]
  },
  {
   "cell_type": "code",
   "execution_count": 39,
   "id": "1d1f2381",
   "metadata": {},
   "outputs": [
    {
     "data": {
      "text/plain": [
       "True"
      ]
     },
     "execution_count": 39,
     "metadata": {},
     "output_type": "execute_result"
    }
   ],
   "source": [
    "(5>4) or (3==5)"
   ]
  },
  {
   "cell_type": "code",
   "execution_count": 40,
   "id": "10ef8058",
   "metadata": {},
   "outputs": [
    {
     "data": {
      "text/plain": [
       "False"
      ]
     },
     "execution_count": 40,
     "metadata": {},
     "output_type": "execute_result"
    }
   ],
   "source": [
    "not((5>4) or (3==5))"
   ]
  },
  {
   "cell_type": "code",
   "execution_count": 41,
   "id": "42b7ca1b",
   "metadata": {},
   "outputs": [
    {
     "data": {
      "text/plain": [
       "False"
      ]
     },
     "execution_count": 41,
     "metadata": {},
     "output_type": "execute_result"
    }
   ],
   "source": [
    "(True and True) and (True == False)"
   ]
  },
  {
   "cell_type": "code",
   "execution_count": 42,
   "id": "7c82ed08",
   "metadata": {},
   "outputs": [
    {
     "data": {
      "text/plain": [
       "True"
      ]
     },
     "execution_count": 42,
     "metadata": {},
     "output_type": "execute_result"
    }
   ],
   "source": [
    "(not False) or (not True)"
   ]
  },
  {
   "cell_type": "markdown",
   "id": "73b6f00f",
   "metadata": {},
   "source": [
    "#### Q. 5. What are the six comparison operators?"
   ]
  },
  {
   "cell_type": "markdown",
   "id": "0ca9826f",
   "metadata": {},
   "source": [
    "Answer : \n",
    "- less than ( < )\n",
    "- less than or equal to ( <= )\n",
    "- greater than ( > )\n",
    "- greater than or equal to ( >= )\n",
    "- equal to ( == ), and not equal to ( != )"
   ]
  },
  {
   "cell_type": "markdown",
   "id": "2a172c92",
   "metadata": {},
   "source": [
    "#### Q. 6. How do you tell the difference between the equal to and assignment operators?Describe a condition and when you would use one.\n"
   ]
  },
  {
   "cell_type": "markdown",
   "id": "12f5f0b8",
   "metadata": {},
   "source": [
    "Anwer : \n",
    "- The “=” is an assignment operator is used to assign the value on the right to the variable on the left. \n",
    "- The '==' operator checks whether the two given operands are equal or not. If so, it returns True, Otherwise it returns False."
   ]
  },
  {
   "cell_type": "code",
   "execution_count": 43,
   "id": "d2452214",
   "metadata": {},
   "outputs": [],
   "source": [
    "# use case\n",
    "# Assigning a variable name :\n",
    "a = 10"
   ]
  },
  {
   "cell_type": "code",
   "execution_count": 44,
   "id": "7adc59fa",
   "metadata": {},
   "outputs": [
    {
     "data": {
      "text/plain": [
       "False"
      ]
     },
     "execution_count": 44,
     "metadata": {},
     "output_type": "execute_result"
    }
   ],
   "source": [
    "# == is a comparision operator, used to check whether the two operands are equal or not.\n",
    "# It writtens true of false as a answer.\n",
    "a == 15"
   ]
  },
  {
   "cell_type": "markdown",
   "id": "32ccbc06",
   "metadata": {},
   "source": [
    "#### Q. 7. Identify the three blocks in this code:"
   ]
  },
  {
   "cell_type": "code",
   "execution_count": 45,
   "id": "043c5944",
   "metadata": {},
   "outputs": [
    {
     "name": "stdout",
     "output_type": "stream",
     "text": [
      "ham\n",
      "spam\n",
      "spam\n"
     ]
    }
   ],
   "source": [
    "spam = 0   # value assignment\n",
    "\n",
    "if spam == 10:\n",
    "    \n",
    "    print('eggs')\n",
    "if spam > 5:         # if condition\n",
    "    #block\n",
    "    print('bacon')\n",
    "else:                # else block\n",
    "    block\n",
    "    print('ham')\n",
    "    print('spam')\n",
    "    print('spam')\n"
   ]
  },
  {
   "cell_type": "markdown",
   "id": "6dfb9edc",
   "metadata": {},
   "source": [
    "#### Q. 8. Write code that prints Hello if 1 is stored in spam, prints Howdy if 2 is stored in spam, and prints Greetings! if anything else is stored in spam"
   ]
  },
  {
   "cell_type": "code",
   "execution_count": 46,
   "id": "4b073e67",
   "metadata": {},
   "outputs": [
    {
     "name": "stdout",
     "output_type": "stream",
     "text": [
      "Greetings!\n"
     ]
    }
   ],
   "source": [
    "if spam == 1 :\n",
    "    print(\"Hello\")\n",
    "if spam == 2 :\n",
    "    print(\"Howdy\")\n",
    "else :\n",
    "    print(\"Greetings!\")"
   ]
  },
  {
   "cell_type": "markdown",
   "id": "70132009",
   "metadata": {},
   "source": [
    "#### Q. 9.If your programme is stuck in an endless loop, what keys you’ll press?\n"
   ]
  },
  {
   "cell_type": "markdown",
   "id": "c79e5944",
   "metadata": {},
   "source": [
    "Answer : If a programme is stuck in an endless loop, you can interrupt the kernel. Another way is to press \"Ctrl + C\". That will stops the endless loop."
   ]
  },
  {
   "cell_type": "markdown",
   "id": "c9ffdc24",
   "metadata": {},
   "source": [
    "#### Q. 10. How can you tell the difference between break and continue?"
   ]
  },
  {
   "cell_type": "markdown",
   "id": "71a7796f",
   "metadata": {},
   "source": [
    "Answer: \n",
    "- The main difference between both the statements is that when break keyword comes, it terminates the execution of the current loop and passes the control over the next loop or main body, whereas when continue keyword is encountered, it skips the current iteration and executes the very next iteration in the loop.\n",
    "- The Break statement is used to exit from the loop constructs,continue statement is not used to exit from the loop constructs.\n",
    "- The break statement is usually used with the switch statement, and it can also use it within the while loop, do-while loop, or the for-loop. The continue statement is not used with the switch statement, but it can be used within the while loop, do-while loop, or for-loop.\n",
    "- Syntax:break; Syntax:continue;"
   ]
  },
  {
   "cell_type": "markdown",
   "id": "4c23e4ab",
   "metadata": {},
   "source": [
    "#### Q. 11. In a for loop, what is the difference between range(10), range(0, 10), and range(0, 10, 1)?\n"
   ]
  },
  {
   "cell_type": "markdown",
   "id": "095e1a49",
   "metadata": {},
   "source": [
    "- They all do the same thing. The range(10) call ranges from 0 up to n-1 where n = 10.\n",
    "- range(0, 10) explicitly tells the loop to start at 0,\n",
    "- range(0, 10, 1) explicitly tells the loop to increase the variable by 1 on each iteration."
   ]
  },
  {
   "cell_type": "code",
   "execution_count": 48,
   "id": "634d12fc",
   "metadata": {},
   "outputs": [
    {
     "name": "stdout",
     "output_type": "stream",
     "text": [
      "0 1 2 3 4 5 6 7 8 9 "
     ]
    }
   ],
   "source": [
    "for i in range(10):\n",
    "    print(i, end = ' ')"
   ]
  },
  {
   "cell_type": "code",
   "execution_count": 49,
   "id": "f987e7dd",
   "metadata": {},
   "outputs": [
    {
     "name": "stdout",
     "output_type": "stream",
     "text": [
      "0 1 2 3 4 5 6 7 8 9 "
     ]
    }
   ],
   "source": [
    "for i in range(0,10) :\n",
    "    print(i,end = ' ')"
   ]
  },
  {
   "cell_type": "code",
   "execution_count": 51,
   "id": "5e7a9ee1",
   "metadata": {},
   "outputs": [
    {
     "name": "stdout",
     "output_type": "stream",
     "text": [
      "0 1 2 3 4 5 6 7 8 9 "
     ]
    }
   ],
   "source": [
    "for i in range(0,10,1) :\n",
    "    print(i, end = ' ')"
   ]
  },
  {
   "cell_type": "markdown",
   "id": "467aeeea",
   "metadata": {},
   "source": [
    "#### Q. 12. Write a short program that prints the numbers 1 to 10 using a for loop. Then write an equivalent program that prints the numbers 1 to 10 using a while loop.\n"
   ]
  },
  {
   "cell_type": "code",
   "execution_count": 4,
   "id": "971193c5",
   "metadata": {},
   "outputs": [
    {
     "name": "stdout",
     "output_type": "stream",
     "text": [
      "0\n",
      "1\n",
      "2\n",
      "3\n",
      "4\n",
      "5\n",
      "6\n",
      "7\n",
      "8\n",
      "9\n",
      "10\n"
     ]
    }
   ],
   "source": [
    "# for loop\n",
    "for i in range(11) :\n",
    "    print(i) "
   ]
  },
  {
   "cell_type": "code",
   "execution_count": 5,
   "id": "b1a8705a",
   "metadata": {},
   "outputs": [
    {
     "name": "stdout",
     "output_type": "stream",
     "text": [
      "0\n",
      "1\n",
      "2\n",
      "3\n",
      "4\n",
      "5\n",
      "6\n",
      "7\n",
      "8\n",
      "9\n",
      "10\n"
     ]
    }
   ],
   "source": [
    "# While loop \n",
    "i = 0 \n",
    "while i < 11 :\n",
    "    print(i)\n",
    "    # print(i,end = ' ')\n",
    "    i = i+1"
   ]
  },
  {
   "cell_type": "markdown",
   "id": "b64156c9",
   "metadata": {},
   "source": [
    "#### Q. 13. If you had a function named bacon() inside a module named spam, how would you call it after importing spam?"
   ]
  },
  {
   "cell_type": "markdown",
   "id": "61121068",
   "metadata": {},
   "source": [
    "Answer : This function can be called with spam. bacon()"
   ]
  }
 ],
 "metadata": {
  "kernelspec": {
   "display_name": "Python 3 (ipykernel)",
   "language": "python",
   "name": "python3"
  },
  "language_info": {
   "codemirror_mode": {
    "name": "ipython",
    "version": 3
   },
   "file_extension": ".py",
   "mimetype": "text/x-python",
   "name": "python",
   "nbconvert_exporter": "python",
   "pygments_lexer": "ipython3",
   "version": "3.9.12"
  }
 },
 "nbformat": 4,
 "nbformat_minor": 5
}
