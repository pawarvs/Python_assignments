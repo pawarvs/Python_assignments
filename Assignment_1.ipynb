{
 "cells": [
  {
   "cell_type": "raw",
   "id": "0a557b5c",
   "metadata": {},
   "source": [
    "Q.1  In the below elements which of them are values or an expression? eg:- values can be integer or string and expressions will be mathematical operators."
   ]
  },
  {
   "cell_type": "markdown",
   "id": "15e2be23",
   "metadata": {},
   "source": [
    "Answer : *,-,/,+ are the mathematical operators.\n",
    "    * = multipication, - = substraction, / = division , + = addition"
   ]
  },
  {
   "cell_type": "code",
   "execution_count": 4,
   "id": "e0722308",
   "metadata": {},
   "outputs": [
    {
     "data": {
      "text/plain": [
       "str"
      ]
     },
     "execution_count": 4,
     "metadata": {},
     "output_type": "execute_result"
    }
   ],
   "source": [
    "type(\"Hello\")"
   ]
  },
  {
   "cell_type": "code",
   "execution_count": 5,
   "id": "e2ccd381",
   "metadata": {},
   "outputs": [
    {
     "data": {
      "text/plain": [
       "int"
      ]
     },
     "execution_count": 5,
     "metadata": {},
     "output_type": "execute_result"
    }
   ],
   "source": [
    "type(6)"
   ]
  },
  {
   "cell_type": "markdown",
   "id": "f259a42f",
   "metadata": {},
   "source": [
    "\"Hello\" and 6 are the values or expressions. As \"Hello\" is a string and 6 is an integer."
   ]
  },
  {
   "cell_type": "raw",
   "id": "41617bed",
   "metadata": {},
   "source": [
    "Q.2 What is the difference between string and variable?"
   ]
  },
  {
   "cell_type": "markdown",
   "id": "7a447703",
   "metadata": {},
   "source": [
    "Answer :\n",
    "String is a data type in python as like integers or float.\n",
    "example : "
   ]
  },
  {
   "cell_type": "code",
   "execution_count": 6,
   "id": "99350320",
   "metadata": {},
   "outputs": [
    {
     "data": {
      "text/plain": [
       "str"
      ]
     },
     "execution_count": 6,
     "metadata": {},
     "output_type": "execute_result"
    }
   ],
   "source": [
    "s = \"India\"\n",
    "type(s)"
   ]
  },
  {
   "cell_type": "markdown",
   "id": "edfc489d",
   "metadata": {},
   "source": [
    "Variable is symbolic name that is reference to an object.\n",
    "In simple words, we assign a name to an object.\n",
    "example:"
   ]
  },
  {
   "cell_type": "code",
   "execution_count": 8,
   "id": "c05811fd",
   "metadata": {},
   "outputs": [],
   "source": [
    "# \"india\"\n",
    "s = \"India\""
   ]
  },
  {
   "cell_type": "raw",
   "id": "142afdae",
   "metadata": {},
   "source": [
    "Q. 3. Describe three different data types."
   ]
  },
  {
   "cell_type": "markdown",
   "id": "d32d1495",
   "metadata": {},
   "source": [
    "Data types: Integers, float, string, boolean, Tuple, dictionary, "
   ]
  },
  {
   "cell_type": "raw",
   "id": "68fbceb6",
   "metadata": {},
   "source": [
    "Q.4. What is an expression made up of? What do all expressions do?\n"
   ]
  },
  {
   "cell_type": "markdown",
   "id": "38a01368",
   "metadata": {},
   "source": [
    "Answer : An expression is a construct made up of variables, operators, constructed according to the syntax"
   ]
  },
  {
   "cell_type": "raw",
   "id": "974e106d",
   "metadata": {},
   "source": [
    "Q. 5. This assignment statements, like spam = 10. What is the difference between an expression and a statement?"
   ]
  },
  {
   "cell_type": "markdown",
   "id": "6d92b52a",
   "metadata": {},
   "source": [
    "Answer : An expression is something that can be reduce to a value.for example 1+3 is an expression and it returns 4. "
   ]
  },
  {
   "cell_type": "code",
   "execution_count": 10,
   "id": "91dbb923",
   "metadata": {},
   "outputs": [
    {
     "data": {
      "text/plain": [
       "4"
      ]
     },
     "execution_count": 10,
     "metadata": {},
     "output_type": "execute_result"
    }
   ],
   "source": [
    "1+3 "
   ]
  },
  {
   "cell_type": "markdown",
   "id": "a1c353c9",
   "metadata": {},
   "source": [
    "Statement : A statement is something that cannot reduce to a value. example \"ab = 1+3\" it doesn't work, so it's a statement."
   ]
  },
  {
   "cell_type": "code",
   "execution_count": 11,
   "id": "c4deb8c9",
   "metadata": {},
   "outputs": [
    {
     "data": {
      "text/plain": [
       "'ab = 1+3'"
      ]
     },
     "execution_count": 11,
     "metadata": {},
     "output_type": "execute_result"
    }
   ],
   "source": [
    "\"ab = 1+3\""
   ]
  },
  {
   "cell_type": "raw",
   "id": "0d30a709",
   "metadata": {},
   "source": [
    "Q. 6. After running the following code, what does the variable bacon contain?\n",
    "bacon = 22\n",
    "bacon + 1\n"
   ]
  },
  {
   "cell_type": "code",
   "execution_count": 13,
   "id": "09f612c0",
   "metadata": {},
   "outputs": [
    {
     "data": {
      "text/plain": [
       "23"
      ]
     },
     "execution_count": 13,
     "metadata": {},
     "output_type": "execute_result"
    }
   ],
   "source": [
    "# Answer\n",
    "bacon = 22\n",
    "bacon + 1"
   ]
  },
  {
   "cell_type": "raw",
   "id": "3f4868eb",
   "metadata": {},
   "source": [
    "Q. 7. What should the values of the following two terms be?\n",
    "'spam' + 'spamspam'\n",
    "'spam' * 3\n"
   ]
  },
  {
   "cell_type": "code",
   "execution_count": 14,
   "id": "f070b004",
   "metadata": {},
   "outputs": [
    {
     "data": {
      "text/plain": [
       "'spamspamspam'"
      ]
     },
     "execution_count": 14,
     "metadata": {},
     "output_type": "execute_result"
    }
   ],
   "source": [
    "\"spam\"+\"spamspam\""
   ]
  },
  {
   "cell_type": "code",
   "execution_count": 15,
   "id": "444ceb13",
   "metadata": {},
   "outputs": [
    {
     "data": {
      "text/plain": [
       "'spamspamspam'"
      ]
     },
     "execution_count": 15,
     "metadata": {},
     "output_type": "execute_result"
    }
   ],
   "source": [
    "\"spam\"*3"
   ]
  },
  {
   "cell_type": "raw",
   "id": "97ac7f40",
   "metadata": {},
   "source": [
    "Q. 8. Why is eggs a valid variable name while 100 is invalid?"
   ]
  },
  {
   "cell_type": "markdown",
   "id": "47a18b4d",
   "metadata": {},
   "source": [
    "Answer : As the rules of defining a variable, variable name should starts with alphabets(a-z,or A-Z) or underscore (_).A variable name should have numbers at the end or in between variable name\n",
    "A variable name should not starts with numbers(0-9),\n",
    "A variable name never have operators (*,/,@,$,&,>,<).\n",
    "It also not allows to use,punctuation marks to define variable names (. , : ; \" ')."
   ]
  },
  {
   "cell_type": "code",
   "execution_count": 43,
   "id": "be1d079f",
   "metadata": {},
   "outputs": [
    {
     "data": {
      "text/plain": [
       "20"
      ]
     },
     "execution_count": 43,
     "metadata": {},
     "output_type": "execute_result"
    }
   ],
   "source": [
    "eggs = 20\n",
    "eggs"
   ]
  },
  {
   "cell_type": "code",
   "execution_count": 48,
   "id": "2bc82a4d",
   "metadata": {},
   "outputs": [
    {
     "ename": "SyntaxError",
     "evalue": "cannot assign to literal (Temp/ipykernel_6896/2666396822.py, line 1)",
     "output_type": "error",
     "traceback": [
      "\u001b[1;36m  File \u001b[1;32m\"C:\\Users\\svish\\AppData\\Local\\Temp/ipykernel_6896/2666396822.py\"\u001b[1;36m, line \u001b[1;32m1\u001b[0m\n\u001b[1;33m    100 = 10\u001b[0m\n\u001b[1;37m    ^\u001b[0m\n\u001b[1;31mSyntaxError\u001b[0m\u001b[1;31m:\u001b[0m cannot assign to literal\n"
     ]
    }
   ],
   "source": [
    "100 = 10"
   ]
  },
  {
   "cell_type": "raw",
   "id": "be914a05",
   "metadata": {},
   "source": [
    "Q. 9. What three functions can be used to get the integer, floating-point number, or string version of a value?\n"
   ]
  },
  {
   "cell_type": "code",
   "execution_count": 49,
   "id": "72639452",
   "metadata": {},
   "outputs": [
    {
     "data": {
      "text/plain": [
       "12"
      ]
     },
     "execution_count": 49,
     "metadata": {},
     "output_type": "execute_result"
    }
   ],
   "source": [
    "int(12.3)"
   ]
  },
  {
   "cell_type": "code",
   "execution_count": 50,
   "id": "7d330b47",
   "metadata": {},
   "outputs": [
    {
     "data": {
      "text/plain": [
       "12.0"
      ]
     },
     "execution_count": 50,
     "metadata": {},
     "output_type": "execute_result"
    }
   ],
   "source": [
    "float(12)"
   ]
  },
  {
   "cell_type": "code",
   "execution_count": 51,
   "id": "8bdadf98",
   "metadata": {},
   "outputs": [
    {
     "data": {
      "text/plain": [
       "'10'"
      ]
     },
     "execution_count": 51,
     "metadata": {},
     "output_type": "execute_result"
    }
   ],
   "source": [
    "str(10)"
   ]
  },
  {
   "cell_type": "raw",
   "id": "83430488",
   "metadata": {},
   "source": [
    "Q. 10. Why does this expression cause an error? How can you fix it?\n",
    "'I have eaten ' + 99 + ' burritos.'\n"
   ]
  },
  {
   "cell_type": "code",
   "execution_count": 54,
   "id": "ee852050",
   "metadata": {},
   "outputs": [
    {
     "data": {
      "text/plain": [
       "'I have eaten 99 burritos.'"
      ]
     },
     "execution_count": 54,
     "metadata": {},
     "output_type": "execute_result"
    }
   ],
   "source": [
    "Answer :\n",
    "\"I have eaten\" +\" 99 \" + \"burritos.\""
   ]
  },
  {
   "cell_type": "code",
   "execution_count": null,
   "id": "0ed7ec8b",
   "metadata": {},
   "outputs": [],
   "source": []
  }
 ],
 "metadata": {
  "kernelspec": {
   "display_name": "Python 3 (ipykernel)",
   "language": "python",
   "name": "python3"
  },
  "language_info": {
   "codemirror_mode": {
    "name": "ipython",
    "version": 3
   },
   "file_extension": ".py",
   "mimetype": "text/x-python",
   "name": "python",
   "nbconvert_exporter": "python",
   "pygments_lexer": "ipython3",
   "version": "3.9.7"
  }
 },
 "nbformat": 4,
 "nbformat_minor": 5
}
